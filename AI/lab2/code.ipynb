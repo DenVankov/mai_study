import numpy as np
import cv2

from future import print_function
import keras
from keras.datasets import mnist
from keras.models import Sequential
from keras.layers import Dense, Dropout, Flatten
from keras.layers import Conv2D, MaxPooling2D
from keras import backend as K

def load_data(name):
  image = cv2.imread(name)
  width = 608
  height = 1056
  resized = cv2.resize(image, (width, height))
  data = []
  labels = []
  step = 32
  cnt = 0
  for i in range(0, height, step):
    for j in range(0, width, step):
      if cnt != 209:    #data preparation error
        im = resized[i:i+step, j:j+step]
        arr = np.array(im)
        arr = arr[:,:,0]
        data.append(arr)
        if cnt % 2 == 0:
          labels.append(0)
        else:
          labels.append(1)
      cnt += 1
      
  data = np.array(data)
  print(len(data))

  split_size = 0.3
  index = int(len(data) * (1 - split_size))
  x_train, y_train  = data[index:], labels[index:]
  x_test, y_test = data[:index + 1], labels[:index + 1]
  
  return (x_train, y_train), (x_test, y_test)
image_name = 'art.jpg'
(x_train, y_train), (x_test, y_test) = load_data(image_name)

#svertka

batch_size = 128
num_classes = 2
epochs = 12

img_rows, img_cols = 32, 32
if K.image_data_format() == 'channels_first':
    x_train = x_train.reshape(x_train.shape[0], 1, img_rows, img_cols)
    x_test = x_test.reshape(x_test.shape[0], 1, img_rows, img_cols)
    input_shape = (1, img_rows, img_cols)
else:
    x_train = x_train.reshape(x_train.shape[0], img_rows, img_cols, 1)
    x_test = x_test.reshape(x_test.shape[0], img_rows, img_cols, 1)
    input_shape = (img_rows, img_cols, 1)

x_train = x_train.astype('float32')
x_test = x_test.astype('float32')
x_train /= 255
x_test /= 255
print('x_train shape:', x_train.shape)
print(x_train.shape[0], 'train samples')
print(x_test.shape[0], 'test samples')

# convert class vectors to binary class matrices
y_train = keras.utils.to_categorical(y_train, num_classes)
y_test = keras.utils.to_categorical(y_test, num_classes)

model = Sequential()
model.add(Conv2D(32, kernel_size=(3, 3),
                 activation='relu',
                 input_shape=input_shape))
model.add(Conv2D(64, (3, 3), activation='relu'))
model.add(MaxPooling2D(pool_size=(2, 2)))
model.add(Dropout(0.25))
model.add(Flatten())
model.add(Dense(128, activation='relu'))
model.add(Dropout(0.5))
model.add(Dense(num_classes, activation='softmax'))

model.compile(loss=keras.losses.categorical_crossentropy,
              optimizer=keras.optimizers.Adadelta(),
              metrics=['accuracy'])

model.fit(x_train, y_train,
          batch_size=batch_size,
          epochs=epochs,
          verbose=1,
          validation_data=(x_test, y_test))
score = model.evaluate(x_test, y_test, verbose=0)
print('Test loss:', score[0])
print('Test accuracy:', score[1])

#polnosvasn

model = Sequential()
model.add(Dense(512, input_shape=(626,)))
model.add(Activation('relu'))
model.add(Dropout(0.2))
model.add(Dense(512))
model.add(Activation('relu'))
model.add(Dropout(0.2))
model.add(Dense(10))
model.add(Activation('softmax'))
model.summary()
model.fit(X_train, Y_train,
          batch_size=128, epochs=5,
          verbose=1)
score = model.evaluate(X_test, Y_test)
print('Test score:', score[0])
print('Test accuracy:', score[1])


